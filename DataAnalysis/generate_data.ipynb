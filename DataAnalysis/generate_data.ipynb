{
 "cells": [
  {
   "cell_type": "code",
   "execution_count": 2,
   "id": "8bd2a475-2e4d-486f-8e4c-8e3352501951",
   "metadata": {},
   "outputs": [],
   "source": [
    "%load_ext autoreload\n",
    "%autoreload 2\n",
    "import sys\n",
    "sys.path.append(\"/Users/efim/PycharmProjects/\")\n",
    "sys.path.append(\"/Users/efim/PycharmProjects/SimpleAlgoTrade/\")\n",
    "from SimpleAlgoTrade.DataFetch.generate_data import generate_data"
   ]
  },
  {
   "cell_type": "code",
   "execution_count": 4,
   "id": "dee0c1e8-2ee5-46fe-b736-37e2cd8d49d6",
   "metadata": {},
   "outputs": [
    {
     "name": "stdout",
     "output_type": "stream",
     "text": [
      "num_round0\n"
     ]
    },
    {
     "name": "stderr",
     "output_type": "stream",
     "text": [
      "100%|██████████| 10000/10000 [2:07:33<00:00,  1.31it/s] \n"
     ]
    },
    {
     "name": "stdout",
     "output_type": "stream",
     "text": [
      "num_round1\n"
     ]
    },
    {
     "name": "stderr",
     "output_type": "stream",
     "text": [
      "100%|██████████| 10000/10000 [2:06:02<00:00,  1.32it/s] \n"
     ]
    }
   ],
   "source": [
    "num_rounds = 2\n",
    "quantity_of_data_to_fetch = 10000\n",
    "trade_book_limit = 100\n",
    "symbol = \"BTCUSDT\"\n",
    "file_path = \"/Users/efim/PycharmProjects/SimpleAlgoTrade/DataBase/files/\"\n",
    "\n",
    "for i in range(num_rounds):\n",
    "    print(f\"num_round{i}\")\n",
    "    generate_data(symbol ,trade_book_limit=trade_book_limit, quantity_of_data_to_fetch=quantity_of_data_to_fetch, path_to_save_data = file_path)"
   ]
  },
  {
   "cell_type": "code",
   "execution_count": null,
   "id": "8aea7c7d-a510-4a80-bd2e-5947b027944e",
   "metadata": {},
   "outputs": [],
   "source": []
  },
  {
   "cell_type": "code",
   "execution_count": null,
   "id": "e5f89eea-ffb4-44ed-a8a6-ab8ede22dd70",
   "metadata": {},
   "outputs": [],
   "source": []
  }
 ],
 "metadata": {
  "kernelspec": {
   "display_name": "Python 3 (ipykernel)",
   "language": "python",
   "name": "python3"
  },
  "language_info": {
   "codemirror_mode": {
    "name": "ipython",
    "version": 3
   },
   "file_extension": ".py",
   "mimetype": "text/x-python",
   "name": "python",
   "nbconvert_exporter": "python",
   "pygments_lexer": "ipython3",
   "version": "3.10.4"
  }
 },
 "nbformat": 4,
 "nbformat_minor": 5
}
