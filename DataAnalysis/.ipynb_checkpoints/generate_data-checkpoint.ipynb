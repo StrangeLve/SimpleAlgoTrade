{
 "cells": [
  {
   "cell_type": "code",
   "execution_count": 1,
   "id": "8bd2a475-2e4d-486f-8e4c-8e3352501951",
   "metadata": {},
   "outputs": [],
   "source": [
    "%load_ext autoreload\n",
    "%autoreload 2\n",
    "import sys\n",
    "sys.path.append(\"/Users/efim/PycharmProjects/\")\n",
    "sys.path.append(\"/Users/efim/PycharmProjects/SimpleAlgoTrade/\")\n",
    "from SimpleAlgoTrade.DataFetch.generate_data import generate_data"
   ]
  },
  {
   "cell_type": "code",
   "execution_count": 2,
   "id": "dee0c1e8-2ee5-46fe-b736-37e2cd8d49d6",
   "metadata": {},
   "outputs": [
    {
     "name": "stderr",
     "output_type": "stream",
     "text": [
      "100%|██████████| 10/10 [00:06<00:00,  1.46it/s]\n"
     ]
    },
    {
     "ename": "FileNotFoundError",
     "evalue": "[Errno 2] No such file or directory: '/Users/efim/PycharmProjects/SimpleAlgoTrade/DataBase/files/price_execution_data_list_12/08/2022 14:29:44.json'",
     "output_type": "error",
     "traceback": [
      "\u001b[0;31m---------------------------------------------------------------------------\u001b[0m",
      "\u001b[0;31mFileNotFoundError\u001b[0m                         Traceback (most recent call last)",
      "\u001b[0;32m<ipython-input-2-d3a71c8bc38c>\u001b[0m in \u001b[0;36m<module>\u001b[0;34m\u001b[0m\n\u001b[0;32m----> 1\u001b[0;31m \u001b[0mgenerate_data\u001b[0m\u001b[0;34m(\u001b[0m\u001b[0;34m\"BTCUSDT\"\u001b[0m\u001b[0;34m,\u001b[0m \u001b[0mquantity_of_data_to_fetch\u001b[0m\u001b[0;34m=\u001b[0m\u001b[0;36m10\u001b[0m\u001b[0;34m,\u001b[0m \u001b[0mpath_to_save_data\u001b[0m \u001b[0;34m=\u001b[0m \u001b[0;34m\"/Users/efim/PycharmProjects/SimpleAlgoTrade/DataBase/files/\"\u001b[0m\u001b[0;34m)\u001b[0m\u001b[0;34m\u001b[0m\u001b[0;34m\u001b[0m\u001b[0m\n\u001b[0m",
      "\u001b[0;32m~/PycharmProjects/SimpleAlgoTrade/DataFetch/generate_data.py\u001b[0m in \u001b[0;36mgenerate_data\u001b[0;34m(symbol, trade_book_limit, quantity_of_data_to_fetch, path_to_save_data, save_file)\u001b[0m\n\u001b[1;32m     32\u001b[0m     \u001b[0;32mif\u001b[0m \u001b[0msave_file\u001b[0m\u001b[0;34m:\u001b[0m\u001b[0;34m\u001b[0m\u001b[0;34m\u001b[0m\u001b[0m\n\u001b[1;32m     33\u001b[0m         \u001b[0;31m# Writing to sample.json\u001b[0m\u001b[0;34m\u001b[0m\u001b[0;34m\u001b[0m\u001b[0;34m\u001b[0m\u001b[0m\n\u001b[0;32m---> 34\u001b[0;31m         \u001b[0;32mwith\u001b[0m \u001b[0mopen\u001b[0m\u001b[0;34m(\u001b[0m\u001b[0;34mf\"{path_to_save_data}price_execution_data_list_{dt_string}.json\"\u001b[0m\u001b[0;34m,\u001b[0m \u001b[0;34m\"w\"\u001b[0m\u001b[0;34m)\u001b[0m \u001b[0;32mas\u001b[0m \u001b[0moutfile\u001b[0m\u001b[0;34m:\u001b[0m\u001b[0;34m\u001b[0m\u001b[0;34m\u001b[0m\u001b[0m\n\u001b[0m\u001b[1;32m     35\u001b[0m             \u001b[0moutfile\u001b[0m\u001b[0;34m.\u001b[0m\u001b[0mwrite\u001b[0m\u001b[0;34m(\u001b[0m\u001b[0mprice_execution_data_list\u001b[0m\u001b[0;34m)\u001b[0m\u001b[0;34m\u001b[0m\u001b[0;34m\u001b[0m\u001b[0m\n\u001b[1;32m     36\u001b[0m         \u001b[0;32mwith\u001b[0m \u001b[0mopen\u001b[0m\u001b[0;34m(\u001b[0m\u001b[0;34mf\"{path_to_save_data}trade_book_data{dt_string}.json\"\u001b[0m\u001b[0;34m,\u001b[0m \u001b[0;34m\"w\"\u001b[0m\u001b[0;34m)\u001b[0m \u001b[0;32mas\u001b[0m \u001b[0moutfile\u001b[0m\u001b[0;34m:\u001b[0m\u001b[0;34m\u001b[0m\u001b[0;34m\u001b[0m\u001b[0m\n",
      "\u001b[0;31mFileNotFoundError\u001b[0m: [Errno 2] No such file or directory: '/Users/efim/PycharmProjects/SimpleAlgoTrade/DataBase/files/price_execution_data_list_12/08/2022 14:29:44.json'"
     ]
    }
   ],
   "source": [
    "generate_data(\"BTCUSDT\", quantity_of_data_to_fetch=10, path_to_save_data = \"/Users/efim/PycharmProjects/SimpleAlgoTrade/DataBase/files/\")"
   ]
  },
  {
   "cell_type": "code",
   "execution_count": null,
   "id": "8aea7c7d-a510-4a80-bd2e-5947b027944e",
   "metadata": {},
   "outputs": [],
   "source": []
  }
 ],
 "metadata": {
  "kernelspec": {
   "display_name": "Python 3",
   "language": "python",
   "name": "python3"
  },
  "language_info": {
   "codemirror_mode": {
    "name": "ipython",
    "version": 3
   },
   "file_extension": ".py",
   "mimetype": "text/x-python",
   "name": "python",
   "nbconvert_exporter": "python",
   "pygments_lexer": "ipython3",
   "version": "3.7.9"
  }
 },
 "nbformat": 4,
 "nbformat_minor": 5
}
